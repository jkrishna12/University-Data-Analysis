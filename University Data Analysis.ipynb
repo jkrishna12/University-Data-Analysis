{
 "cells": [
  {
   "cell_type": "markdown",
   "id": "4f8adda0",
   "metadata": {},
   "source": [
    "# University Data Analysis"
   ]
  },
  {
   "cell_type": "markdown",
   "id": "c0049fb2",
   "metadata": {},
   "source": [
    "## Importing Data"
   ]
  },
  {
   "cell_type": "code",
   "execution_count": 1,
   "id": "584fcdc4",
   "metadata": {},
   "outputs": [
    {
     "name": "stdout",
     "output_type": "stream",
     "text": [
      "   course_id course_type  year  enrollment_count pre_score  post_score  \\\n",
      "0          1   classroom  2018               165     28.14        73.0   \n",
      "1          2   classroom  2020               175     79.68        86.0   \n",
      "2          3      online  2016               257     57.24        80.0   \n",
      "3          4      online  2013               251     97.67        75.0   \n",
      "4          5   classroom  2019               165     39.75        76.0   \n",
      "\n",
      "  pre_requirement   department  \n",
      "0        Beginner      Science  \n",
      "1            None      Science  \n",
      "2             NaN  Mathematics  \n",
      "3        Beginner   Technology  \n",
      "4        Beginner      Science  \n",
      "<class 'pandas.core.frame.DataFrame'>\n",
      "RangeIndex: 1850 entries, 0 to 1849\n",
      "Data columns (total 8 columns):\n",
      " #   Column            Non-Null Count  Dtype  \n",
      "---  ------            --------------  -----  \n",
      " 0   course_id         1850 non-null   int64  \n",
      " 1   course_type       1850 non-null   object \n",
      " 2   year              1850 non-null   int64  \n",
      " 3   enrollment_count  1850 non-null   int64  \n",
      " 4   pre_score         1850 non-null   object \n",
      " 5   post_score        1665 non-null   float64\n",
      " 6   pre_requirement   1761 non-null   object \n",
      " 7   department        1850 non-null   object \n",
      "dtypes: float64(1), int64(3), object(4)\n",
      "memory usage: 115.8+ KB\n",
      "None\n",
      "(1850, 8)\n"
     ]
    }
   ],
   "source": [
    "import numpy as np\n",
    "import pandas as pd\n",
    "import matplotlib.pyplot as plt\n",
    "import seaborn as sns\n",
    "\n",
    "filename = \"university_enrollment_2306.csv\"\n",
    "\n",
    "university = pd.read_csv(filename)\n",
    "\n",
    "print(university.head())\n",
    "print(university.info())\n",
    "print(university.shape)"
   ]
  },
  {
   "cell_type": "markdown",
   "id": "4557b8d2",
   "metadata": {},
   "source": [
    "## Cleaning Data\n",
    "Will go through each column cleaning it making sure data types and missing values are corrected. "
   ]
  },
  {
   "cell_type": "markdown",
   "id": "c4bdda6f",
   "metadata": {},
   "source": [
    "#### Column 1 Course ID"
   ]
  },
  {
   "cell_type": "code",
   "execution_count": 2,
   "id": "7abbef36",
   "metadata": {},
   "outputs": [
    {
     "name": "stdout",
     "output_type": "stream",
     "text": [
      "Unique values in Course ID 1850\n"
     ]
    }
   ],
   "source": [
    "courses = len(university[\"course_id\"].unique())\n",
    "print(\"Unique values in Course ID {}\".format(courses))"
   ]
  },
  {
   "cell_type": "markdown",
   "id": "87a1d96a",
   "metadata": {},
   "source": [
    "#### Column 2 Course Type"
   ]
  },
  {
   "cell_type": "code",
   "execution_count": 3,
   "id": "5a474ea6",
   "metadata": {},
   "outputs": [
    {
     "name": "stdout",
     "output_type": "stream",
     "text": [
      "online       1375\n",
      "classroom     475\n",
      "Name: course_type, dtype: int64\n",
      "1850\n",
      "Data type of course type column is category\n"
     ]
    }
   ],
   "source": [
    "print(university[\"course_type\"].value_counts())\n",
    "print(university[\"course_type\"].value_counts().sum())\n",
    "university[\"course_type\"] = university[\"course_type\"].astype(\"category\") # changine to the categorical data type\n",
    "print(\"Data type of course type column is {}\".format(university[\"course_type\"].dtype))"
   ]
  },
  {
   "cell_type": "markdown",
   "id": "a4c7fbd5",
   "metadata": {},
   "source": [
    "#### Column 3 Year"
   ]
  },
  {
   "cell_type": "code",
   "execution_count": 4,
   "id": "39a1ff1a",
   "metadata": {},
   "outputs": [
    {
     "name": "stdout",
     "output_type": "stream",
     "text": [
      "0\n",
      "2011 2022\n",
      "int64\n"
     ]
    }
   ],
   "source": [
    "print(university[\"year\"].isnull().sum()) # check for missing values\n",
    "print(university[\"year\"].min(), university[\"year\"].max()) # check range of values make sure it matches \n",
    "print(university[\"year\"].dtype)"
   ]
  },
  {
   "cell_type": "markdown",
   "id": "c07b737d",
   "metadata": {},
   "source": [
    "#### Column 4 Enrollment Count"
   ]
  },
  {
   "cell_type": "code",
   "execution_count": 5,
   "id": "36e961b3",
   "metadata": {},
   "outputs": [
    {
     "name": "stdout",
     "output_type": "stream",
     "text": [
      "count    1850.000000\n",
      "mean      231.565405\n",
      "std        36.987029\n",
      "min       154.000000\n",
      "25%       185.000000\n",
      "50%       251.000000\n",
      "75%       261.000000\n",
      "max       267.000000\n",
      "Name: enrollment_count, dtype: float64\n",
      "0\n"
     ]
    }
   ],
   "source": [
    "print(university[\"enrollment_count\"].describe())\n",
    "print(university[\"enrollment_count\"].isnull().sum()) # check for missing values \n",
    "assert university[\"enrollment_count\"].dtype == \"int64\" # using assert to check whether its correct data type"
   ]
  },
  {
   "cell_type": "markdown",
   "id": "797ae4eb",
   "metadata": {},
   "source": [
    "#### Column 5 Pre Score"
   ]
  },
  {
   "cell_type": "code",
   "execution_count": 6,
   "id": "a93bb3a5",
   "metadata": {},
   "outputs": [
    {
     "name": "stdout",
     "output_type": "stream",
     "text": [
      "-        130\n",
      "12.11      3\n",
      "51.95      3\n",
      "18.01      3\n",
      "23.66      3\n",
      "        ... \n",
      "13.76      1\n",
      "33.47      1\n",
      "18.42      1\n",
      "8.23       1\n",
      "17.57      1\n",
      "Name: pre_score, Length: 1594, dtype: int64\n",
      "0        130\n",
      "12.11      3\n",
      "51.95      3\n",
      "18.01      3\n",
      "23.66      3\n",
      "        ... \n",
      "13.76      1\n",
      "33.47      1\n",
      "18.42      1\n",
      "8.23       1\n",
      "17.57      1\n",
      "Name: pre_score, Length: 1594, dtype: int64\n",
      "Pre score column data type float64\n"
     ]
    }
   ],
   "source": [
    "print(university[\"pre_score\"].value_counts(ascending = False))\n",
    "university[\"pre_score\"] = university[\"pre_score\"].replace(\"-\",0) # need to replace - with 0\n",
    "print(university[\"pre_score\"].value_counts(ascending = False)) \n",
    "university[\"pre_score\"] = university[\"pre_score\"].astype(float) # changing data type\n",
    "print(\"Pre score column data type {}\".format(university[\"pre_score\"].dtype))"
   ]
  },
  {
   "cell_type": "markdown",
   "id": "9066881b",
   "metadata": {},
   "source": [
    "#### Column 6 Post Score"
   ]
  },
  {
   "cell_type": "code",
   "execution_count": 7,
   "id": "bd1f91d8",
   "metadata": {
    "scrolled": false
   },
   "outputs": [
    {
     "name": "stdout",
     "output_type": "stream",
     "text": [
      "185\n",
      "0.0      185\n",
      "72.0      82\n",
      "76.0      78\n",
      "79.0      77\n",
      "73.0      74\n",
      "80.0      74\n",
      "71.0      72\n",
      "77.0      72\n",
      "81.0      72\n",
      "75.0      68\n",
      "74.0      67\n",
      "78.0      67\n",
      "68.0      66\n",
      "69.0      64\n",
      "66.0      59\n",
      "70.0      55\n",
      "67.0      54\n",
      "82.0      54\n",
      "86.0      42\n",
      "84.0      42\n",
      "83.0      38\n",
      "65.0      36\n",
      "87.0      33\n",
      "85.0      32\n",
      "61.0      31\n",
      "63.0      30\n",
      "62.0      26\n",
      "89.0      25\n",
      "64.0      24\n",
      "88.0      18\n",
      "90.0      17\n",
      "60.0      16\n",
      "92.0      13\n",
      "59.0      12\n",
      "57.0      10\n",
      "98.0      10\n",
      "94.0       9\n",
      "55.0       7\n",
      "95.0       6\n",
      "96.0       5\n",
      "93.0       5\n",
      "97.0       4\n",
      "91.0       4\n",
      "58.0       3\n",
      "56.0       2\n",
      "54.0       2\n",
      "51.0       1\n",
      "105.0      1\n",
      "99.0       1\n",
      "100.0      1\n",
      "53.0       1\n",
      "102.0      1\n",
      "101.0      1\n",
      "103.0      1\n",
      "Name: post_score, dtype: int64\n",
      "Post score column data type float64\n"
     ]
    }
   ],
   "source": [
    "print(university[\"post_score\"].isnull().sum()) # check number of missing values\n",
    "university[\"post_score\"] = university[\"post_score\"].fillna(0) # change missing values to 0\n",
    "print(university[\"post_score\"].value_counts(ascending = False))\n",
    "print(\"Post score column data type {}\".format(university[\"post_score\"].dtype)) # check data type is integer"
   ]
  },
  {
   "cell_type": "markdown",
   "id": "f58fe2b6",
   "metadata": {},
   "source": [
    "#### Column 7 Pre Requirement"
   ]
  },
  {
   "cell_type": "code",
   "execution_count": 8,
   "id": "1fbfb20d",
   "metadata": {},
   "outputs": [
    {
     "name": "stdout",
     "output_type": "stream",
     "text": [
      "None            802\n",
      "Beginner        654\n",
      "Intermediate    305\n",
      "Name: pre_requirement, dtype: int64\n",
      "1761\n",
      "89\n",
      "object\n",
      "After changes\n",
      "None            891\n",
      "Beginner        654\n",
      "Intermediate    305\n",
      "Name: pre_requirement, dtype: int64\n",
      "category\n"
     ]
    }
   ],
   "source": [
    "print(university[\"pre_requirement\"].value_counts())\n",
    "print(university[\"pre_requirement\"].value_counts().sum())\n",
    "print(university[\"pre_requirement\"].isnull().sum()) # check number of missing values\n",
    "print(university[\"pre_requirement\"].dtype)\n",
    "print(\"After changes\")\n",
    "university[\"pre_requirement\"] = university[\"pre_requirement\"].fillna(\"None\") # change missing values to None\n",
    "university[\"pre_requirement\"] = university[\"pre_requirement\"].astype(\"category\") # change data type to category\n",
    "print(university[\"pre_requirement\"].value_counts())\n",
    "print(university[\"pre_requirement\"].dtype)"
   ]
  },
  {
   "cell_type": "markdown",
   "id": "63ed766a",
   "metadata": {},
   "source": [
    "#### Column 8 Department"
   ]
  },
  {
   "cell_type": "code",
   "execution_count": 9,
   "id": "088dd2c2",
   "metadata": {},
   "outputs": [
    {
     "name": "stdout",
     "output_type": "stream",
     "text": [
      "Technology     719\n",
      "Science        472\n",
      "Mathematics    220\n",
      "Math           220\n",
      "Engineering    219\n",
      "Name: department, dtype: int64\n",
      "1850\n",
      "0\n",
      "Department column data type object\n",
      "After Changes\n",
      "Technology     719\n",
      "Science        472\n",
      "Mathematics    440\n",
      "Engineering    219\n",
      "Name: department, dtype: int64\n",
      "1850\n",
      "Department column data type category\n"
     ]
    }
   ],
   "source": [
    "print(university[\"department\"].value_counts())\n",
    "print(university[\"department\"].value_counts().sum())\n",
    "print(university[\"department\"].isnull().sum())\n",
    "print(\"Department column data type {}\".format(university[\"department\"].dtype))\n",
    "print(\"After Changes\")\n",
    "update_cats = {\"Math\":\"Mathematics\"}\n",
    "university[\"department\"] = university[\"department\"].replace(update_cats) # want to change math category to mathematics\n",
    "print(university[\"department\"].value_counts())\n",
    "print(university[\"department\"].value_counts().sum())\n",
    "university[\"department\"] = university[\"department\"].astype(\"category\")\n",
    "print(\"Department column data type {}\".format(university[\"department\"].dtype))"
   ]
  },
  {
   "cell_type": "markdown",
   "id": "075d5630",
   "metadata": {},
   "source": [
    "### Cleaning Data Summary \n",
    "- Course ID - same as description 1850 unique values\n",
    "- Course Type - Same as description, two possible values with no missing values. Changed to a categorical data type\n",
    "- Year - Same as description minimum value is 2011 and maximum value is 2022. There are no missing values. Kept as integer data type as it should be only discrete values. \n",
    "- Enrollment Count -  Matches description, integer data type with no missing values\n",
    "- Pre Score -  Initial inspection suggests there no missing values, however using value counts method shows there are 130 entries entered as \"-\". These are replaced with 0 and data type changed to float\n",
    "- Post Score - 185 entries missing entires filled with 0 value. Data type is already a float\n",
    "- Pre Requirement - 89 missing entries replaced with \"None\" and changed data type to category.\n",
    "- Department - No missing values, but there is a Math and Mathematics category. Will combine Math into Mathematics. Converted data type into categorical. "
   ]
  },
  {
   "cell_type": "markdown",
   "id": "08997038",
   "metadata": {},
   "source": [
    "## Data Visualisation\n",
    "### Visualising Enrollment Count\n",
    "There appears to be two groups of distribution of the enrollment count, courses having between 150 and 190 people and courses having between 230 and 270 people. There are no courses having people between 190 and 230 people. Majority of courses appear to be in the upper range with most courses having around 250 people."
   ]
  },
  {
   "cell_type": "code",
   "execution_count": 10,
   "id": "388d0226",
   "metadata": {},
   "outputs": [
    {
     "data": {
      "image/png": "[encoded data removed]",
      "text/plain": [
       "<Figure size 432x288 with 1 Axes>"
      ]
     },
     "metadata": {
      "needs_background": "light"
     },
     "output_type": "display_data"
    }
   ],
   "source": [
    "ax = sns.histplot(data = university, x=\"enrollment_count\")\n",
    "ax.set(xlabel = \"Enrollment Count\", title = \"Distribution of Enrollment Count\")\n",
    "\n",
    "plt.show()"
   ]
  },
  {
   "cell_type": "markdown",
   "id": "1656311a",
   "metadata": {},
   "source": [
    "### Visualising Different Types of Courses \n",
    "From the graph below online courses clearly have the most observations. The observations are not balanced with online having almost triple the amount compared to the classroom. \n"
   ]
  },
  {
   "cell_type": "code",
   "execution_count": 11,
   "id": "fa544572",
   "metadata": {},
   "outputs": [
    {
     "data": {
      "image/png": "[encoded data removed]",
      "text/plain": [
       "<Figure size 432x288 with 1 Axes>"
      ]
     },
     "metadata": {
      "needs_background": "light"
     },
     "output_type": "display_data"
    }
   ],
   "source": [
    "ax = sns.countplot(data=university, x=\"course_type\")\n",
    "ax.set(xlabel = \"Course Type\", title = \"Barplot of the different types of courses available\")\n",
    "\n",
    "plt.show()"
   ]
  },
  {
   "cell_type": "markdown",
   "id": "be18b9db",
   "metadata": {},
   "source": [
    "### Visualisng How Course Type Effects Enrollment Distribution\n",
    "The Figure below shows how important a role the course type impacts the enrollment figures. Online courses have significantly higher enrollment than classroom with the minimum enrollment of an online course greater than the maximum enrollment of as classroom course. The distribution for classroom courses has a slight positive skew and slight negative skew for online courses. "
   ]
  },
  {
   "cell_type": "code",
   "execution_count": 12,
   "id": "d18417f5",
   "metadata": {},
   "outputs": [
    {
     "data": {
      "image/png": "[encoded data removed]",
      "text/plain": [
       "<Figure size 432x288 with 1 Axes>"
      ]
     },
     "metadata": {
      "needs_background": "light"
     },
     "output_type": "display_data"
    }
   ],
   "source": [
    "ax = sns.boxplot(data=university, x=\"enrollment_count\", y=\"course_type\")\n",
    "ax.set(xlabel = \"Enrollment Count\", ylabel = \"Course Type\", title = \"Boxplot showing how enrollment count distribution differs based of course types\")\n",
    "# plt.savefig(\"University_boxplot_distribution.jpg\", bbox_inches='tight')\n",
    "plt.show()"
   ]
  },
  {
   "cell_type": "markdown",
   "id": "c590050c",
   "metadata": {},
   "source": [
    "## Machine Learning Problem\n",
    "\n",
    "Would like to predict the enrollment count using the features. As enrollment count is a continuous variable this is a regression problem. Will use two regression models evaluate each one and decide which one is better. The 2 models I will be fitting are a Linear Regression Model and a Random Forest Regressor Model. I chose Linear Regression as its a simple model to fit and its results are easy to interpret. I chose a Random Forest Regressor model as a comparison as it is able to capture more complex relationships and is less prone to overfitting on the training set. "
   ]
  },
  {
   "cell_type": "markdown",
   "id": "89d40b42",
   "metadata": {},
   "source": [
    "### Feature Engineering\n",
    "Before a machine learning model is fit the dataset requires a few changes\n",
    "- Dropping the course ID column as they are all unique values it doesn't provide any valuable information\n",
    "- Dummy variables need to be created for the the categorical variables \n",
    "- This includes the year column, will have to be done sepeartely because it is an integer data type\n",
    "- Join these two datasets together"
   ]
  },
  {
   "cell_type": "code",
   "execution_count": 13,
   "id": "9d41ad13",
   "metadata": {},
   "outputs": [
    {
     "name": "stdout",
     "output_type": "stream",
     "text": [
      "Shape of year dummies (1850, 12)\n",
      "Shape of university dummies (1850, 12)\n",
      "Shape of university model (1850, 24)\n"
     ]
    },
    {
     "data": {
      "text/html": [
       "<div>\n",
       "<style scoped>\n",
       "    .dataframe tbody tr th:only-of-type {\n",
       "        vertical-align: middle;\n",
       "    }\n",
       "\n",
       "    .dataframe tbody tr th {\n",
       "        vertical-align: top;\n",
       "    }\n",
       "\n",
       "    .dataframe thead th {\n",
       "        text-align: right;\n",
       "    }\n",
       "</style>\n",
       "<table border=\"1\" class=\"dataframe\">\n",
       "  <thead>\n",
       "    <tr style=\"text-align: right;\">\n",
       "      <th></th>\n",
       "      <th>enrollment_count</th>\n",
       "      <th>pre_score</th>\n",
       "      <th>post_score</th>\n",
       "      <th>course_type_classroom</th>\n",
       "      <th>course_type_online</th>\n",
       "      <th>pre_requirement_Beginner</th>\n",
       "      <th>pre_requirement_Intermediate</th>\n",
       "      <th>pre_requirement_None</th>\n",
       "      <th>department_Engineering</th>\n",
       "      <th>department_Mathematics</th>\n",
       "      <th>...</th>\n",
       "      <th>2013</th>\n",
       "      <th>2014</th>\n",
       "      <th>2015</th>\n",
       "      <th>2016</th>\n",
       "      <th>2017</th>\n",
       "      <th>2018</th>\n",
       "      <th>2019</th>\n",
       "      <th>2020</th>\n",
       "      <th>2021</th>\n",
       "      <th>2022</th>\n",
       "    </tr>\n",
       "  </thead>\n",
       "  <tbody>\n",
       "    <tr>\n",
       "      <th>0</th>\n",
       "      <td>165</td>\n",
       "      <td>28.14</td>\n",
       "      <td>73.0</td>\n",
       "      <td>1</td>\n",
       "      <td>0</td>\n",
       "      <td>1</td>\n",
       "      <td>0</td>\n",
       "      <td>0</td>\n",
       "      <td>0</td>\n",
       "      <td>0</td>\n",
       "      <td>...</td>\n",
       "      <td>0</td>\n",
       "      <td>0</td>\n",
       "      <td>0</td>\n",
       "      <td>0</td>\n",
       "      <td>0</td>\n",
       "      <td>1</td>\n",
       "      <td>0</td>\n",
       "      <td>0</td>\n",
       "      <td>0</td>\n",
       "      <td>0</td>\n",
       "    </tr>\n",
       "    <tr>\n",
       "      <th>1</th>\n",
       "      <td>175</td>\n",
       "      <td>79.68</td>\n",
       "      <td>86.0</td>\n",
       "      <td>1</td>\n",
       "      <td>0</td>\n",
       "      <td>0</td>\n",
       "      <td>0</td>\n",
       "      <td>1</td>\n",
       "      <td>0</td>\n",
       "      <td>0</td>\n",
       "      <td>...</td>\n",
       "      <td>0</td>\n",
       "      <td>0</td>\n",
       "      <td>0</td>\n",
       "      <td>0</td>\n",
       "      <td>0</td>\n",
       "      <td>0</td>\n",
       "      <td>0</td>\n",
       "      <td>1</td>\n",
       "      <td>0</td>\n",
       "      <td>0</td>\n",
       "    </tr>\n",
       "    <tr>\n",
       "      <th>2</th>\n",
       "      <td>257</td>\n",
       "      <td>57.24</td>\n",
       "      <td>80.0</td>\n",
       "      <td>0</td>\n",
       "      <td>1</td>\n",
       "      <td>0</td>\n",
       "      <td>0</td>\n",
       "      <td>1</td>\n",
       "      <td>0</td>\n",
       "      <td>1</td>\n",
       "      <td>...</td>\n",
       "      <td>0</td>\n",
       "      <td>0</td>\n",
       "      <td>0</td>\n",
       "      <td>1</td>\n",
       "      <td>0</td>\n",
       "      <td>0</td>\n",
       "      <td>0</td>\n",
       "      <td>0</td>\n",
       "      <td>0</td>\n",
       "      <td>0</td>\n",
       "    </tr>\n",
       "    <tr>\n",
       "      <th>3</th>\n",
       "      <td>251</td>\n",
       "      <td>97.67</td>\n",
       "      <td>75.0</td>\n",
       "      <td>0</td>\n",
       "      <td>1</td>\n",
       "      <td>1</td>\n",
       "      <td>0</td>\n",
       "      <td>0</td>\n",
       "      <td>0</td>\n",
       "      <td>0</td>\n",
       "      <td>...</td>\n",
       "      <td>1</td>\n",
       "      <td>0</td>\n",
       "      <td>0</td>\n",
       "      <td>0</td>\n",
       "      <td>0</td>\n",
       "      <td>0</td>\n",
       "      <td>0</td>\n",
       "      <td>0</td>\n",
       "      <td>0</td>\n",
       "      <td>0</td>\n",
       "    </tr>\n",
       "    <tr>\n",
       "      <th>4</th>\n",
       "      <td>165</td>\n",
       "      <td>39.75</td>\n",
       "      <td>76.0</td>\n",
       "      <td>1</td>\n",
       "      <td>0</td>\n",
       "      <td>1</td>\n",
       "      <td>0</td>\n",
       "      <td>0</td>\n",
       "      <td>0</td>\n",
       "      <td>0</td>\n",
       "      <td>...</td>\n",
       "      <td>0</td>\n",
       "      <td>0</td>\n",
       "      <td>0</td>\n",
       "      <td>0</td>\n",
       "      <td>0</td>\n",
       "      <td>0</td>\n",
       "      <td>1</td>\n",
       "      <td>0</td>\n",
       "      <td>0</td>\n",
       "      <td>0</td>\n",
       "    </tr>\n",
       "  </tbody>\n",
       "</table>\n",
       "<p>5 rows × 24 columns</p>\n",
       "</div>"
      ],
      "text/plain": [
       "   enrollment_count  pre_score  post_score  course_type_classroom  \\\n",
       "0               165      28.14        73.0                      1   \n",
       "1               175      79.68        86.0                      1   \n",
       "2               257      57.24        80.0                      0   \n",
       "3               251      97.67        75.0                      0   \n",
       "4               165      39.75        76.0                      1   \n",
       "\n",
       "   course_type_online  pre_requirement_Beginner  pre_requirement_Intermediate  \\\n",
       "0                   0                         1                             0   \n",
       "1                   0                         0                             0   \n",
       "2                   1                         0                             0   \n",
       "3                   1                         1                             0   \n",
       "4                   0                         1                             0   \n",
       "\n",
       "   pre_requirement_None  department_Engineering  department_Mathematics  ...  \\\n",
       "0                     0                       0                       0  ...   \n",
       "1                     1                       0                       0  ...   \n",
       "2                     1                       0                       1  ...   \n",
       "3                     0                       0                       0  ...   \n",
       "4                     0                       0                       0  ...   \n",
       "\n",
       "   2013  2014  2015  2016  2017  2018  2019  2020  2021  2022  \n",
       "0     0     0     0     0     0     1     0     0     0     0  \n",
       "1     0     0     0     0     0     0     0     1     0     0  \n",
       "2     0     0     0     1     0     0     0     0     0     0  \n",
       "3     1     0     0     0     0     0     0     0     0     0  \n",
       "4     0     0     0     0     0     0     1     0     0     0  \n",
       "\n",
       "[5 rows x 24 columns]"
      ]
     },
     "execution_count": 13,
     "metadata": {},
     "output_type": "execute_result"
    }
   ],
   "source": [
    "#dummy variables for year\n",
    "year = university[\"year\"]\n",
    "year_dummies = pd.get_dummies(year)\n",
    "print(\"Shape of year dummies {}\".format(year_dummies.shape))\n",
    "# dummy variables for other categorical columns\n",
    "university_dropped = university.drop([\"course_id\",\"year\"], axis = 1)\n",
    "university_dummies = pd.get_dummies(university_dropped)\n",
    "print(\"Shape of university dummies {}\".format(university_dummies.shape))\n",
    "# combine the two dataframes\n",
    "university_model = university_dummies.join(year_dummies)\n",
    "print(\"Shape of university model {}\".format(university_model.shape))\n",
    "university_model.head()"
   ]
  },
  {
   "cell_type": "markdown",
   "id": "8fb18079",
   "metadata": {},
   "source": [
    "#### Implementing Linear Regression Model"
   ]
  },
  {
   "cell_type": "code",
   "execution_count": 14,
   "id": "8a5b22a4",
   "metadata": {},
   "outputs": [
    {
     "name": "stdout",
     "output_type": "stream",
     "text": [
      "Shape of X is (1850, 23), shape of y is (1850,)\n"
     ]
    }
   ],
   "source": [
    "from sklearn.linear_model import LinearRegression\n",
    "from sklearn.model_selection import train_test_split\n",
    "\n",
    "X,y = university_model.drop([\"enrollment_count\"], axis = 1), university_model[\"enrollment_count\"]\n",
    "print(\"Shape of X is {}, shape of y is {}\".format(X.shape, y.shape))\n",
    "\n",
    "X_train, X_test, y_train, y_test = train_test_split(X, y,test_size=0.3, random_state=123)\n",
    "\n",
    "linreg = LinearRegression()\n",
    "linreg.fit(X_train,y_train)\n",
    "y_pred_lr = linreg.predict(X_test)"
   ]
  },
  {
   "cell_type": "markdown",
   "id": "41bf8177",
   "metadata": {},
   "source": [
    "#### Implementing Random Forest Regressor Model"
   ]
  },
  {
   "cell_type": "code",
   "execution_count": 15,
   "id": "4295a97a",
   "metadata": {},
   "outputs": [],
   "source": [
    "from sklearn.ensemble import RandomForestRegressor\n",
    "\n",
    "rf = RandomForestRegressor()\n",
    "rf.fit(X_train, y_train)\n",
    "y_pred_rf = rf.predict(X_test)"
   ]
  },
  {
   "cell_type": "markdown",
   "id": "e8fe15a8",
   "metadata": {},
   "source": [
    "### Evaluating Models\n",
    "Will compare the results using the Root Mean Squared Error (RMSE) metrics. This shows the average deviation in predicted results to the actual results and has the same units as the target variable. "
   ]
  },
  {
   "cell_type": "code",
   "execution_count": 16,
   "id": "e07fa71e",
   "metadata": {},
   "outputs": [
    {
     "name": "stdout",
     "output_type": "stream",
     "text": [
      "RMSE of the Linear Regression model is 0.324\n",
      "RMSE of the Random Forest Regression model is 0.358\n"
     ]
    }
   ],
   "source": [
    "from sklearn.metrics import mean_squared_error\n",
    "\n",
    "rmse_lr = np.sqrt(mean_squared_error(y_test, y_pred_lr))\n",
    "rmse_rf = np.sqrt(mean_squared_error(y_test, y_pred_rf))\n",
    "print(\"RMSE of the Linear Regression model is {}\".format(round(rmse_lr,3)))\n",
    "print(\"RMSE of the Random Forest Regression model is {}\".format(round(rmse_rf, 3)))"
   ]
  },
  {
   "cell_type": "markdown",
   "id": "091a5f6c",
   "metadata": {},
   "source": [
    "## Conclusion\n",
    "The Linear Regression model has a marginally smaller RMSE than the Random Forest Regression model, 0.324 and 0.358 respectively. While both models are very accurate, as seen by the small RMSE (both models able to predict within 1 person of the actual value), it suggests that the Linear Regression model is better at predicting the enrollment for different courses. However, the hyperparameters of the Random Forest model haven't been tuned. With further tuning using GridSearchCV or RandomizedSearchCV to find the optimal hyperparamters a lower RMSE value could be obtained."
   ]
  }
 ],
 "metadata": {
  "kernelspec": {
   "display_name": "Python 3 (ipykernel)",
   "language": "python",
   "name": "python3"
  },
  "language_info": {
   "codemirror_mode": {
    "name": "ipython",
    "version": 3
   },
   "file_extension": ".py",
   "mimetype": "text/x-python",
   "name": "python",
   "nbconvert_exporter": "python",
   "pygments_lexer": "ipython3",
   "version": "3.9.7"
  }
 },
 "nbformat": 4,
 "nbformat_minor": 5
}
